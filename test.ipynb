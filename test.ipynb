{
 "cells": [
  {
   "cell_type": "code",
   "execution_count": 4,
   "metadata": {},
   "outputs": [
    {
     "name": "stdout",
     "output_type": "stream",
     "text": [
      "tensor(0.4302)\n",
      "tensor([0.4302])\n"
     ]
    }
   ],
   "source": [
    "from torch.distributions import ContinuousBernoulli\n",
    "import torch\n",
    "\n",
    "cb1 = ContinuousBernoulli(0.3)\n",
    "print(cb1.mean)\n",
    "\n",
    "x = torch.Tensor([0.3])\n",
    "print(x/(2*x-1) + 1/(2*torch.atanh(1-2*x)))"
   ]
  },
  {
   "cell_type": "code",
   "execution_count": 17,
   "metadata": {},
   "outputs": [
    {
     "data": {
      "image/png": "[encoded data removed]",
      "text/plain": [
       "<Figure size 500x200 with 2 Axes>"
      ]
     },
     "metadata": {},
     "output_type": "display_data"
    }
   ],
   "source": [
    "import matplotlib.pyplot as plt\n",
    "# Monte Carlo estimation of p(x)\n",
    "def monte_carlo_mean_estimate(vae, data, num_samples=100):\n",
    "    vae.eval()\n",
    "    with torch.no_grad():\n",
    "        reconstructions = []\n",
    "        for _ in range(num_samples):\n",
    "            recon_x, _, _ = vae(data)\n",
    "            reconstructions.append(recon_x)\n",
    "    \n",
    "    mean_reconstruction = torch.stack(reconstructions).mean(dim=0)\n",
    "    return mean_reconstruction\n",
    "\n",
    "# Choose a data point for Monte Carlo estimation\n",
    "data_point, _ = next(iter(train_loader))\n",
    "data_point = data_point[0].unsqueeze(0)\n",
    "\n",
    "# Monte Carlo estimation of the mean\n",
    "mean_reconstruction = monte_carlo_mean_estimate(vae, data_point, num_samples=1)\n",
    "\n",
    "# Visualize the original data point and the mean reconstruction\n",
    "plt.figure(figsize=(5, 2))\n",
    "plt.subplot(1, 2, 1)\n",
    "plt.imshow(data_point.view(28, 28).cpu().numpy(), cmap='gray')\n",
    "plt.title('Original')\n",
    "plt.axis('off')\n",
    "\n",
    "plt.subplot(1, 2, 2)\n",
    "plt.imshow(mean_reconstruction.view(28, 28).cpu().numpy(), cmap='gray')\n",
    "plt.title('Mean Reconstruction')\n",
    "plt.axis('off')\n",
    "\n",
    "plt.show()\n",
    "\n",
    "\n"
   ]
  }
 ],
 "metadata": {
  "kernelspec": {
   "display_name": "pyro-env",
   "language": "python",
   "name": "python3"
  },
  "language_info": {
   "codemirror_mode": {
    "name": "ipython",
    "version": 3
   },
   "file_extension": ".py",
   "mimetype": "text/x-python",
   "name": "python",
   "nbconvert_exporter": "python",
   "pygments_lexer": "ipython3",
   "version": "3.10.13"
  }
 },
 "nbformat": 4,
 "nbformat_minor": 2
}
