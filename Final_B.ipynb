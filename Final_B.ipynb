{
 "cells": [
  {
   "cell_type": "code",
   "execution_count": 69,
   "metadata": {},
   "outputs": [],
   "source": [
    "from sklearn.model_selection import train_test_split\n",
    "import numpy as np             \n",
    "import math\n",
    "import matplotlib.pyplot as plt\n",
    "import scipy.optimize as opt\n",
    "import scipy.linalg as la"
   ]
  },
  {
   "cell_type": "code",
   "execution_count": 70,
   "metadata": {},
   "outputs": [],
   "source": [
    "def func(X):\n",
    "    return -np.sin(6*np.pi*X)**2+6*X**2-5*X**4+3/2\n",
    "\n",
    "# Data\n",
    "X = np.linspace(0, 1, 30)\n",
    "y = func(X)\n",
    "X = X.reshape(-1, 1)\n",
    "y = y.reshape(-1, 1)\n",
    "\n",
    "# Use clone for splitting data and ensure requires_grad is set\n",
    "X_train, X_test, y_train, y_test = train_test_split(X, y, test_size=1/3)\n",
    "y_mean = np.mean(y)\n",
    "y_std = np.sqrt(np.var(y))"
   ]
  },
  {
   "cell_type": "code",
   "execution_count": 71,
   "metadata": {},
   "outputs": [],
   "source": [
    "def negLogLikelihood(params, kernel):\n",
    "    noise_y = params[0]\n",
    "    theta = params[1:]\n",
    "    temp = np.linalg.slogdet(noise_y*np.eye(X_train.shape[0])+kernel(X_train, X_train, theta))\n",
    "    ll = -0.5*y_train.T@la.inv(noise_y*np.eye(X_train.shape[0])+kernel(X_train, X_train, theta))@y_train \\\n",
    "    - 0.5*temp.sign*temp.logabsdet \\\n",
    "    - 0.5*len(X)*np.log(np.sqrt((2*np.pi)))\n",
    "\n",
    "    return -ll\n",
    "\n",
    "\n",
    "def optimize_params(ranges, kernel, Ngrid):\n",
    "    opt_params = opt.brute(lambda params: negLogLikelihood(params, kernel), ranges, Ns=Ngrid, finish=None)\n",
    "    noise_var = opt_params[0]\n",
    "    theta = opt_params[1:]\n",
    "    return noise_var, theta\n",
    "\n",
    "\n",
    "def conditional(X_train, y_train, X_test, noise_var, theta, kernel):\n",
    "    mustar = kernel(X_test, X_train, theta)@la.inv(noise_var*np.eye(X_train.shape[0])+kernel(X_train, X_train, theta))@y_train\n",
    "    Sigmastar = kernel(X_test, X_test, theta) \\\n",
    "        - kernel(X_test, X_train, theta)@la.inv(noise_var*np.eye(X_train.shape[0])+kernel(X_train, X_train, theta))@kernel(X_train, X_test, theta)\n",
    "\n",
    "    return mustar, Sigmastar \n"
   ]
  },
  {
   "cell_type": "code",
   "execution_count": 72,
   "metadata": {},
   "outputs": [
    {
     "name": "stdout",
     "output_type": "stream",
     "text": [
      "optimal params: 0.5556444444444445 [1.00000000e-04 1.11118889e+00]\n"
     ]
    }
   ],
   "source": [
    "def periodic_kernel(X, X_prime, theta):\n",
    "    var = theta[0]\n",
    "    p = theta[1]\n",
    "    ell = theta[2]\n",
    "    return np.exp(-2*np.power(np.sin(np.pi*(X-X_prime)/p), 2)/np.power(ell, 2)*var)\n",
    "\n",
    "def special_kernel(X, Xprime, eta):\n",
    "    a = eta[0]\n",
    "    b = eta[1]\n",
    "    K = (1+X@Xprime.T)**2 + a * np.multiply.outer(np.sin(2*np.pi * X.reshape(-1)+b), np.sin(2*np.pi*Xprime.reshape(-1)+b))\n",
    "    return K\n",
    "\n",
    "kernel = special_kernel\n",
    "\n",
    "Ngrid = 10\n",
    "ranges = ((1.e-4, 5), (1.e-4, 5), (1.e-4, 5))\n",
    "noise_var, theta = optimize_params(ranges, kernel, Ngrid)\n",
    "print(\"optimal params:\", noise_var, theta)\n",
    "\n"
   ]
  },
  {
   "cell_type": "code",
   "execution_count": 73,
   "metadata": {},
   "outputs": [],
   "source": [
    "X_test = np.concatenate((X_test, np.zeros(10).reshape(-1, 1)))\n",
    "prediction_mean_gp, Sigma_gp = conditional(X_train, y_train, X_test, noise_var, theta, kernel)\n",
    "prediction_mean_gp = prediction_mean_gp[:10]\n",
    "Sigma_gp = Sigma_gp[:10]\n",
    "var_gp = np.diag(Sigma_gp)  \n",
    "var_gp = var_gp.reshape(-1, 1)\n",
    "X_test = X_test[:10]\n"
   ]
  },
  {
   "cell_type": "code",
   "execution_count": 74,
   "metadata": {},
   "outputs": [
    {
     "data": {
      "text/plain": [
       "<matplotlib.collections.PathCollection at 0x1a601d286d0>"
      ]
     },
     "execution_count": 74,
     "metadata": {},
     "output_type": "execute_result"
    },
    {
     "data": {
      "image/png": "[encoded data removed]",
      "text/plain": [
       "<Figure size 640x480 with 1 Axes>"
      ]
     },
     "metadata": {},
     "output_type": "display_data"
    }
   ],
   "source": [
    "plt.scatter(X_train, y_train)\n",
    "yout_m = prediction_mean_gp*y_std + y_mean\n",
    "yout_v = var_gp*y_std**2\n",
    "plt.scatter(X_test, yout_m)"
   ]
  }
 ],
 "metadata": {
  "kernelspec": {
   "display_name": "pyro-env",
   "language": "python",
   "name": "python3"
  },
  "language_info": {
   "codemirror_mode": {
    "name": "ipython",
    "version": 3
   },
   "file_extension": ".py",
   "mimetype": "text/x-python",
   "name": "python",
   "nbconvert_exporter": "python",
   "pygments_lexer": "ipython3",
   "version": "3.10.13"
  }
 },
 "nbformat": 4,
 "nbformat_minor": 2
}
